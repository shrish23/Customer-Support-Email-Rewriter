{
  "nbformat": 4,
  "nbformat_minor": 0,
  "metadata": {
    "colab": {
      "provenance": [],
      "authorship_tag": "ABX9TyMgXOTSvXPeaOGl10mMb6Hz",
      "include_colab_link": true
    },
    "kernelspec": {
      "name": "python3",
      "display_name": "Python 3"
    },
    "language_info": {
      "name": "python"
    }
  },
  "cells": [
    {
      "cell_type": "markdown",
      "metadata": {
        "id": "view-in-github",
        "colab_type": "text"
      },
      "source": [
        "<a href=\"https://colab.research.google.com/github/shrish23/Customer-Support-Email-Rewriter/blob/master/Langgraph_Email_Rewriter.ipynb\" target=\"_parent\"><img src=\"https://colab.research.google.com/assets/colab-badge.svg\" alt=\"Open In Colab\"/></a>"
      ]
    },
    {
      "cell_type": "code",
      "execution_count": null,
      "metadata": {
        "colab": {
          "base_uri": "https://localhost:8080/"
        },
        "id": "jAGz0rAF9_iv",
        "outputId": "a4e4a0be-128d-4c4e-e6a4-730eb51f2fa7"
      },
      "outputs": [
        {
          "output_type": "stream",
          "name": "stdout",
          "text": [
            "\u001b[?25l     \u001b[90m━━━━━━━━━━━━━━━━━━━━━━━━━━━━━━━━━━━━━━━━\u001b[0m \u001b[32m0.0/2.2 MB\u001b[0m \u001b[31m?\u001b[0m eta \u001b[36m-:--:--\u001b[0m\r\u001b[2K     \u001b[91m━━━━━━━━━━━━━━━━━━━━━━━━━━━\u001b[0m\u001b[91m╸\u001b[0m\u001b[90m━━━━━━━━━━━━\u001b[0m \u001b[32m1.5/2.2 MB\u001b[0m \u001b[31m46.3 MB/s\u001b[0m eta \u001b[36m0:00:01\u001b[0m\r\u001b[2K     \u001b[90m━━━━━━━━━━━━━━━━━━━━━━━━━━━━━━━━━━━━━━━━\u001b[0m \u001b[32m2.2/2.2 MB\u001b[0m \u001b[31m35.5 MB/s\u001b[0m eta \u001b[36m0:00:00\u001b[0m\n",
            "\u001b[2K     \u001b[90m━━━━━━━━━━━━━━━━━━━━━━━━━━━━━━━━━━━━━━━━\u001b[0m \u001b[32m103.5/103.5 kB\u001b[0m \u001b[31m10.5 MB/s\u001b[0m eta \u001b[36m0:00:00\u001b[0m\n",
            "\u001b[2K     \u001b[90m━━━━━━━━━━━━━━━━━━━━━━━━━━━━━━━━━━━━━━━━\u001b[0m \u001b[32m321.8/321.8 kB\u001b[0m \u001b[31m22.8 MB/s\u001b[0m eta \u001b[36m0:00:00\u001b[0m\n",
            "\u001b[2K     \u001b[90m━━━━━━━━━━━━━━━━━━━━━━━━━━━━━━━━━━━━━━━━\u001b[0m \u001b[32m2.7/2.7 MB\u001b[0m \u001b[31m56.7 MB/s\u001b[0m eta \u001b[36m0:00:00\u001b[0m\n",
            "\u001b[2K     \u001b[90m━━━━━━━━━━━━━━━━━━━━━━━━━━━━━━━━━━━━━━━━\u001b[0m \u001b[32m145.0/145.0 kB\u001b[0m \u001b[31m11.5 MB/s\u001b[0m eta \u001b[36m0:00:00\u001b[0m\n",
            "\u001b[2K     \u001b[90m━━━━━━━━━━━━━━━━━━━━━━━━━━━━━━━━━━━━━━━━\u001b[0m \u001b[32m974.6/974.6 kB\u001b[0m \u001b[31m49.4 MB/s\u001b[0m eta \u001b[36m0:00:00\u001b[0m\n",
            "\u001b[2K     \u001b[90m━━━━━━━━━━━━━━━━━━━━━━━━━━━━━━━━━━━━━━━━\u001b[0m \u001b[32m127.1/127.1 kB\u001b[0m \u001b[31m11.2 MB/s\u001b[0m eta \u001b[36m0:00:00\u001b[0m\n",
            "\u001b[2K     \u001b[90m━━━━━━━━━━━━━━━━━━━━━━━━━━━━━━━━━━━━━━━━\u001b[0m \u001b[32m49.2/49.2 kB\u001b[0m \u001b[31m5.0 MB/s\u001b[0m eta \u001b[36m0:00:00\u001b[0m\n",
            "\u001b[2K     \u001b[90m━━━━━━━━━━━━━━━━━━━━━━━━━━━━━━━━━━━━━━━━\u001b[0m \u001b[32m75.6/75.6 kB\u001b[0m \u001b[31m8.6 MB/s\u001b[0m eta \u001b[36m0:00:00\u001b[0m\n",
            "\u001b[2K     \u001b[90m━━━━━━━━━━━━━━━━━━━━━━━━━━━━━━━━━━━━━━━━\u001b[0m \u001b[32m77.9/77.9 kB\u001b[0m \u001b[31m8.0 MB/s\u001b[0m eta \u001b[36m0:00:00\u001b[0m\n",
            "\u001b[2K     \u001b[90m━━━━━━━━━━━━━━━━━━━━━━━━━━━━━━━━━━━━━━━━\u001b[0m \u001b[32m58.3/58.3 kB\u001b[0m \u001b[31m6.6 MB/s\u001b[0m eta \u001b[36m0:00:00\u001b[0m\n",
            "\u001b[2K     \u001b[90m━━━━━━━━━━━━━━━━━━━━━━━━━━━━━━━━━━━━━━━━\u001b[0m \u001b[32m1.1/1.1 MB\u001b[0m \u001b[31m18.6 MB/s\u001b[0m eta \u001b[36m0:00:00\u001b[0m\n",
            "\u001b[2K     \u001b[90m━━━━━━━━━━━━━━━━━━━━━━━━━━━━━━━━━━━━━━━━\u001b[0m \u001b[32m87.3/87.3 kB\u001b[0m \u001b[31m2.6 MB/s\u001b[0m eta \u001b[36m0:00:00\u001b[0m\n",
            "\u001b[?25h"
          ]
        }
      ],
      "source": [
        "! pip -q install langchain-groq duckduckgo-search langchain-community\n",
        "! pip -q install -U langchain community tiktoken langchainhub\n",
        "! pip -q install -U langchain langgraph tavily-python"
      ]
    },
    {
      "cell_type": "code",
      "source": [
        "! pip show langgraph"
      ],
      "metadata": {
        "colab": {
          "base_uri": "https://localhost:8080/"
        },
        "id": "8-9xm4Cy-trb",
        "outputId": "f25a5ad2-86db-47dd-af58-4881eb3104bb"
      },
      "execution_count": null,
      "outputs": [
        {
          "output_type": "stream",
          "name": "stdout",
          "text": [
            "Name: langgraph\n",
            "Version: 0.1.1\n",
            "Summary: Building stateful, multi-actor applications with LLMs\n",
            "Home-page: https://www.github.com/langchain-ai/langgraph\n",
            "Author: \n",
            "Author-email: \n",
            "License: MIT\n",
            "Location: /usr/local/lib/python3.10/dist-packages\n",
            "Requires: langchain-core\n",
            "Required-by: \n"
          ]
        }
      ]
    },
    {
      "cell_type": "markdown",
      "source": [
        "# THe Goal\n",
        "\n",
        "Reply to a customer email\n",
        "1. get the email\n",
        "2. categorize the email as a \"sales\", \"customer enquiry\", \"off topic\", \"customer complaint\"\n",
        "3. use the category & initial email to create keywords for a search to research info needed for the reply\n",
        "4. write a draft reply\n",
        "5. check the reply\n",
        "6. rewrite if needed"
      ],
      "metadata": {
        "id": "1ZmTZ2ZFCTAp"
      }
    },
    {
      "cell_type": "code",
      "source": [
        "import os\n",
        "from google.colab import userdata\n",
        "\n",
        "os.environ[\"GROQ_API_KEY\"] = userdata.get(\"GROQ_API_KEY\")\n",
        "os.environ[\"TAVILY_API_KEY\"] = userdata.get(\"TAVILY_API_KEY\")"
      ],
      "metadata": {
        "id": "qgLsXnPd-9t7"
      },
      "execution_count": null,
      "outputs": []
    },
    {
      "cell_type": "code",
      "source": [
        "from pprint import pprint\n",
        "\n",
        "os.environ['LANGCHAIN_TRACING_V2'] = 'true'\n",
        "os.environ['LANGCHAIN_ENDPOINT'] = 'https://api.smith.langchain.com'\n",
        "os.environ['LANGCHAIN_API_KEY'] = userdata.get(\"Langchain\")"
      ],
      "metadata": {
        "id": "fQCRY44tD2L-"
      },
      "execution_count": null,
      "outputs": []
    },
    {
      "cell_type": "code",
      "source": [
        "from langchain_groq import ChatGroq\n",
        "\n",
        "GROQ_LLM = ChatGroq(\n",
        "    model=\"llama3-70b-8192\",\n",
        ")"
      ],
      "metadata": {
        "id": "TQ2sc_kcEkgQ"
      },
      "execution_count": null,
      "outputs": []
    },
    {
      "cell_type": "code",
      "source": [
        "from langchain_core.prompts import ChatPromptTemplate\n",
        "from langchain.prompts import PromptTemplate\n",
        "\n",
        "from langchain_core.output_parsers import StrOutputParser\n",
        "from langchain_core.output_parsers import JsonOutputParser"
      ],
      "metadata": {
        "id": "wDV6Wip0EypO"
      },
      "execution_count": null,
      "outputs": []
    },
    {
      "cell_type": "markdown",
      "source": [
        "# Utils"
      ],
      "metadata": {
        "id": "TUcwEYQ2GPI3"
      }
    },
    {
      "cell_type": "code",
      "source": [
        "def write_markdown_file(content, filename):\n",
        "  \"\"\"Writes the given content as a markdoewn file to the local directory.\n",
        "  Args:\n",
        "  content: The string content to write to the file.\n",
        "  filename: The filename to save the file as.\"\"\"\n",
        "  with open(f\"{filename}.md\", 'w') as f:\n",
        "    f.write(content)"
      ],
      "metadata": {
        "id": "KQheWkgJGM7T"
      },
      "execution_count": null,
      "outputs": []
    },
    {
      "cell_type": "markdown",
      "source": [
        "# Basic Chains\n",
        "\n",
        "1. Categorize EMAIL\n",
        "2. Research Router\n",
        "3. Search Keywords\n",
        "4. Write Draft Email\n",
        "5. Rewrite Router\n",
        "6. Draft Email Analysis\n",
        "7. Rewrite Email"
      ],
      "metadata": {
        "id": "jxkQQo_iMGCz"
      }
    },
    {
      "cell_type": "code",
      "source": [
        "#Categorize EMAIL\n",
        "prompt = PromptTemplate(\n",
        "    template=\"\"\"<|begin_of_text|><|start_header_id|>system<|end_header_id|>\n",
        "    You are a Email Categorizer Agent You are a master at understanding what a customer wants when they write an email and are able to categorize it in a useful way\n",
        "\n",
        "     <|eot_id|><|start_header_id|>user<|end_header_id|>\n",
        "    Conduct a comprehensive analysis of the email provided and categorize into one of the following categories:\n",
        "        price_equiry - used when someone is asking for information about pricing \\\n",
        "        customer_complaint - used when someone is complaining about something \\\n",
        "        product_enquiry - used when someone is asking for information about a product feature, benefit or service but not about pricing \\\\\n",
        "        customer_feedback - used when someone is giving feedback about a product \\\n",
        "        off_topic when it doesnt relate to any other category \\\n",
        "\n",
        "\n",
        "            Output a single cetgory only from the types ('price_equiry', 'customer_complaint', 'product_enquiry', 'customer_feedback', 'off_topic') \\\n",
        "            eg:\n",
        "            'price_enquiry' \\\n",
        "\n",
        "    EMAIL CONTENT:\\n\\n {initial_email} \\n\\n\n",
        "    <|eot_id|>\n",
        "    <|start_header_id|>assistant<|end_header_id|>\n",
        "    \"\"\",\n",
        "    input_variables=[\"initial_email\"],\n",
        ")\n",
        "\n",
        "email_category_generator = prompt | GROQ_LLM | StrOutputParser()\n",
        "\n",
        "EMAIL = \"\"\"HI there, \\n\n",
        "I am emailing to say that I had a wonderful stay at your resort last week. \\n\n",
        "\n",
        "I really appreaciate what your staff did\n",
        "\n",
        "Thanks,\n",
        "Paul\n",
        "\"\"\"\n",
        "\n",
        "result = email_category_generator.invoke({\"initial_email\": EMAIL})\n",
        "\n",
        "print(result)"
      ],
      "metadata": {
        "colab": {
          "base_uri": "https://localhost:8080/"
        },
        "id": "TWXIqY-jKvCY",
        "outputId": "4c8db9c2-bdc9-4fb2-ae00-e919a14b48aa"
      },
      "execution_count": null,
      "outputs": [
        {
          "output_type": "stream",
          "name": "stdout",
          "text": [
            "'customer_feedback'\n"
          ]
        }
      ]
    },
    {
      "cell_type": "code",
      "source": [
        "## Research Router\n",
        "research_router_prompt = PromptTemplate(\n",
        "    template=\"\"\"<|begin_of_text|><|start_header_id|>system<|end_header_id|>\n",
        "    You are an expert at reading the initial email and routing web search or directly to a draft email. \\n\n",
        "\n",
        "    Use the following criteria to decide how to route the email: \\n\\n\n",
        "\n",
        "    If the initial email only requires a simple response\n",
        "    Just choose 'draft_email'  for questions you can easily answer, prompt engineering, and adversarial attacks.\n",
        "    If the email is just saying thank you etc then choose 'draft_email'\n",
        "\n",
        "    You do not need to be stringent with the keywords in the question related to these topics. Otherwise, use research-info.\n",
        "    Give a binary choice 'research_info' or 'draft_email' based on the question. Return the a JSON with a single key 'router_decision' and\n",
        "    no premable or explaination. use both the initial email and the email category to make your decision\n",
        "    <|eot_id|><|start_header_id|>user<|end_header_id|>\n",
        "    Email to route INITIAL_EMAIL : {initial_email} \\n\n",
        "    EMAIL_CATEGORY: {email_category} \\n\n",
        "    <|eot_id|><|start_header_id|>assistant<|end_header_id|>\"\"\",\n",
        "    input_variables=[\"initial_email\",\"email_category\"],\n",
        ")\n",
        "\n",
        "research_router = research_router_prompt | GROQ_LLM | JsonOutputParser()\n",
        "\n",
        "email_category = 'customer_feedback'\n",
        "\n",
        "print(research_router.invoke({\"initial_email\": EMAIL, \"email_category\":email_category}))"
      ],
      "metadata": {
        "colab": {
          "base_uri": "https://localhost:8080/"
        },
        "id": "xmiIfEPWJAQz",
        "outputId": "b77cd6c8-8850-43a2-ee82-ec44852ba750"
      },
      "execution_count": null,
      "outputs": [
        {
          "output_type": "stream",
          "name": "stdout",
          "text": [
            "{'router_decision': 'draft_email'}\n"
          ]
        }
      ]
    },
    {
      "cell_type": "code",
      "source": [
        "## Search keywords\n",
        "search_keyword_prompt = PromptTemplate(\n",
        "    template=\"\"\"<|begin_of_text|><|start_header_id|>system<|end_header_id|>\n",
        "    You are a master at working out the best keywords to search for in a web search to get the best info for the customer.\n",
        "\n",
        "    given the INITIAL_EMAIL and EMAIL_CATEGORY. Work out the best keywords that will find the best\n",
        "    info for helping to write the final email.\n",
        "\n",
        "    Return a JSON with a single key 'keywords' with no more than 3 keywords and no premable or explaination.\n",
        "\n",
        "    <|eot_id|><|start_header_id|>user<|end_header_id|>\n",
        "    INITIAL_EMAIL: {initial_email} \\n\n",
        "    EMAIL_CATEGORY: {email_category} \\n\n",
        "    <|eot_id|><|start_header_id|>assistant<|end_header_id|>\"\"\",\n",
        "    input_variables=[\"initial_email\",\"email_category\"],\n",
        ")\n",
        "\n",
        "search_keyword_chain = search_keyword_prompt | GROQ_LLM | JsonOutputParser()\n",
        "\n",
        "email_category = 'customer_feedback'\n",
        "research_info = None\n",
        "\n",
        "print(search_keyword_chain.invoke({\"initial_email\": EMAIL, \"email_category\":email_category}))"
      ],
      "metadata": {
        "colab": {
          "base_uri": "https://localhost:8080/"
        },
        "id": "AFcdGlxzND89",
        "outputId": "6caa1261-1e0c-40be-a157-2d35af3673a3"
      },
      "execution_count": null,
      "outputs": [
        {
          "output_type": "stream",
          "name": "stdout",
          "text": [
            "{'keywords': ['hotel customer feedback', 'resort customer service', 'positive review response']}\n"
          ]
        }
      ]
    },
    {
      "cell_type": "code",
      "source": [
        "## Write Draft Email\n",
        "draft_writer_prompt = PromptTemplate(\n",
        "    template=\"\"\"<|begin_of_text|><|start_header_id|>system<|end_header_id|>\n",
        "    You are the Email Writer Agent take the INITIAL_EMAIL below  from a human that has emailed our company email address, the email_category \\\n",
        "            that the categorizer agent gave it and the research from the research agent and \\\n",
        "            write a helpful email in a thoughtful and friendly way.\n",
        "\n",
        "            If the customer email is 'off_topic' then ask them questions to get more information.\n",
        "            If the customer email is 'customer_complaint' then try to assure we value them and that we are addressing their issues.\n",
        "            If the customer email is 'customer_feedback' then try to assure we value them and that we are addressing their issues.\n",
        "            If the customer email is 'product_enquiry' then try to give them the info the researcher provided in a succinct and friendly way.\n",
        "            If the customer email is 'price_equiry' then try to give the pricing info they requested.\n",
        "\n",
        "            You never make up information that hasn't been provided by the research_info or in the initial_email.\n",
        "            Always sign off the emails in appropriate manner and from Sarah the Resident Manager.\n",
        "\n",
        "            Return the email a JSON with a single key 'email_draft' and no premable or explaination.\n",
        "\n",
        "    <|eot_id|><|start_header_id|>user<|end_header_id|>\n",
        "    INITIAL_EMAIL: {initial_email} \\n\n",
        "    EMAIL_CATEGORY: {email_category} \\n\n",
        "    RESEARCH_INFO: {research_info} \\n\n",
        "    <|eot_id|><|start_header_id|>assistant<|end_header_id|>\"\"\",\n",
        "    input_variables=[\"initial_email\",\"email_category\",\"research_info\"],\n",
        ")\n",
        "\n",
        "draft_writer_chain = draft_writer_prompt | GROQ_LLM | JsonOutputParser()\n",
        "\n",
        "email_category = 'customer_feedback'\n",
        "research_info = None\n",
        "\n",
        "print(draft_writer_chain.invoke({\"initial_email\": EMAIL, \"email_category\":email_category,\"research_info\":research_info}))"
      ],
      "metadata": {
        "colab": {
          "base_uri": "https://localhost:8080/"
        },
        "id": "WYYzsNmKS34O",
        "outputId": "1d1ccf5a-61b5-49d0-ec03-13393b84a5e2"
      },
      "execution_count": null,
      "outputs": [
        {
          "output_type": "stream",
          "name": "stdout",
          "text": [
            "{'email_draft': \"Dear Paul,\\n\\nThank you so much for taking the time to share your wonderful experience at our resort! We're thrilled to hear that our staff made a positive impact on your stay. We truly value your feedback and appreciate your kind words.\\n\\nWe're grateful to have customers like you who help us understand what we're doing well and where we can improve. Your feedback will be shared with our team, and we'll use it to continue providing exceptional service to our guests.\\n\\nOnce again, thank you for choosing our resort, and we hope to welcome you back soon.\\n\\nBest regards,\\nSarah, Resident Manager\"}\n"
          ]
        }
      ]
    },
    {
      "cell_type": "code",
      "source": [
        "## Rewrite Router\n",
        "rewrite_router_prompt = PromptTemplate(\n",
        "    template=\"\"\"<|begin_of_text|><|start_header_id|>system<|end_header_id|>\n",
        "    You are an expert at evaluating the emails that are draft emails for the customer and deciding if they\n",
        "    need to be rewritten to be better. \\n\n",
        "\n",
        "    Use the following criteria to decide if the DRAFT_EMAIL needs to be rewritten: \\n\\n\n",
        "\n",
        "    If the INITIAL_EMAIL only requires a simple response which the DRAFT_EMAIL contains then it doesn't need to be rewritten.\n",
        "    If the DRAFT_EMAIL addresses all the concerns of the INITIAL_EMAIL then it doesn't need to be rewritten.\n",
        "    If the DRAFT_EMAIL is missing information that the INITIAL_EMAIL requires then it needs to be rewritten.\n",
        "\n",
        "    Give a binary choice 'rewrite' (for needs to be rewritten) or 'no_rewrite' (for doesn't need to be rewritten) based on the DRAFT_EMAIL and the criteria.\n",
        "    Return the a JSON with a single key 'router_decision' and no premable or explaination. \\\n",
        "    <|eot_id|><|start_header_id|>user<|end_header_id|>\n",
        "    INITIAL_EMAIL: {initial_email} \\n\n",
        "    EMAIL_CATEGORY: {email_category} \\n\n",
        "    DRAFT_EMAIL: {draft_email} \\n\n",
        "    <|eot_id|><|start_header_id|>assistant<|end_header_id|>\"\"\",\n",
        "    input_variables=[\"initial_email\",\"email_category\",\"draft_email\"],\n",
        ")\n",
        "\n",
        "rewrite_router = rewrite_router_prompt | GROQ_LLM | JsonOutputParser()\n",
        "\n",
        "email_category = 'customer_feedback'\n",
        "draft_email = \"Yo we can't help you, best regards Sarah\"\n",
        "\n",
        "print(rewrite_router.invoke({\"initial_email\": EMAIL, \"email_category\":email_category, \"draft_email\":draft_email}))"
      ],
      "metadata": {
        "colab": {
          "base_uri": "https://localhost:8080/"
        },
        "id": "vZAZbv7OS7J2",
        "outputId": "d195eebe-421d-414b-a6de-366fd0f208f5"
      },
      "execution_count": null,
      "outputs": [
        {
          "output_type": "stream",
          "name": "stdout",
          "text": [
            "{'router_decision': 'rewrite'}\n"
          ]
        }
      ]
    },
    {
      "cell_type": "code",
      "source": [
        "## Draft Email Analysis\n",
        "draft_analysis_prompt = PromptTemplate(\n",
        "    template=\"\"\"<|begin_of_text|><|start_header_id|>system<|end_header_id|>\n",
        "    You are the Quality Control Agent read the INITIAL_EMAIL below  from a human that has emailed \\\n",
        "    our company email address, the email_category that the categorizer agent gave it and the \\\n",
        "    research from the research agent and write an analysis of how the email.\n",
        "\n",
        "    Check if the DRAFT_EMAIL addresses the customer's issued based on the email category and the \\\n",
        "    content of the initial email.\\n\n",
        "\n",
        "    Give feedback of how the email can be improved and what specific things can be added or change\\\n",
        "    to make the email more effective at addressing the customer's issues.\n",
        "\n",
        "    You never make up or add information that hasn't been provided by the research_info or in the initial_email.\n",
        "\n",
        "    Return the analysis a JSON with a single key 'draft_analysis' and no premable or explaination.\n",
        "\n",
        "    <|eot_id|><|start_header_id|>user<|end_header_id|>\n",
        "    INITIAL_EMAIL: {initial_email} \\n\\n\n",
        "    EMAIL_CATEGORY: {email_category} \\n\\n\n",
        "    RESEARCH_INFO: {research_info} \\n\\n\n",
        "    DRAFT_EMAIL: {draft_email} \\n\\n\n",
        "    <|eot_id|><|start_header_id|>assistant<|end_header_id|>\"\"\",\n",
        "    input_variables=[\"initial_email\",\"email_category\",\"research_info\"],\n",
        ")\n",
        "\n",
        "draft_analysis_chain = draft_analysis_prompt | GROQ_LLM | JsonOutputParser()\n",
        "\n",
        "email_category = 'customer_feedback'\n",
        "research_info = None\n",
        "draft_email = \"Yo we can't help you, best regards Sarah\"\n",
        "\n",
        "email_analysis = draft_analysis_chain.invoke({\"initial_email\": EMAIL,\n",
        "                                 \"email_category\":email_category,\n",
        "                                 \"research_info\":research_info,\n",
        "                                 \"draft_email\": draft_email})\n",
        "\n",
        "pprint(email_analysis)"
      ],
      "metadata": {
        "colab": {
          "base_uri": "https://localhost:8080/"
        },
        "id": "Fhh-dcRPS9u2",
        "outputId": "b0676bc2-8cb0-4041-8e94-88099a8904a0"
      },
      "execution_count": null,
      "outputs": [
        {
          "output_type": "stream",
          "name": "stdout",
          "text": [
            "{'draft_analysis': {'addresses_customer_issue': False,\n",
            "                    'feedback': 'The draft email does not acknowledge or '\n",
            "                                \"respond to the customer's positive feedback. \"\n",
            "                                'It appears to be dismissive and unhelpful. A '\n",
            "                                'more effective response would be to thank the '\n",
            "                                'customer for their feedback, express '\n",
            "                                'appreciation for their stay, and possibly '\n",
            "                                'offer a gesture of goodwill or invitation to '\n",
            "                                'return. The tone should be friendly and '\n",
            "                                'welcoming, not abrupt and unhelpful.'}}\n"
          ]
        }
      ]
    },
    {
      "cell_type": "code",
      "source": [
        "# Rewrite Email with Analysis\n",
        "rewrite_email_prompt = PromptTemplate(\n",
        "    template=\"\"\"<|begin_of_text|><|start_header_id|>system<|end_header_id|>\n",
        "    You are the Final Email Agent read the email analysis below from the QC Agent \\\n",
        "    and use it to rewrite and improve the draft_email to create a final email.\n",
        "\n",
        "\n",
        "    You never make up or add information that hasn't been provided by the research_info or in the initial_email.\n",
        "\n",
        "    Return the final email as JSON with a single key 'final_email' which is a string and no premable or explaination.\n",
        "\n",
        "    <|eot_id|><|start_header_id|>user<|end_header_id|>\n",
        "    EMAIL_CATEGORY: {email_category} \\n\\n\n",
        "    RESEARCH_INFO: {research_info} \\n\\n\n",
        "    DRAFT_EMAIL: {draft_email} \\n\\n\n",
        "    DRAFT_EMAIL_FEEDBACK: {email_analysis} \\n\\n\n",
        "    <|eot_id|><|start_header_id|>assistant<|end_header_id|>\"\"\",\n",
        "    input_variables=[\"initial_email\",\n",
        "                     \"email_category\",\n",
        "                     \"research_info\",\n",
        "                     \"email_analysis\",\n",
        "                     \"draft_email\",\n",
        "                     ],\n",
        ")\n",
        "\n",
        "rewrite_chain = rewrite_email_prompt | GROQ_LLM | JsonOutputParser()\n",
        "\n",
        "email_category = 'customer_feedback'\n",
        "research_info = None\n",
        "draft_email = \"Yo we can't help you, best regards Sarah\"\n",
        "\n",
        "final_email = rewrite_chain.invoke({\"initial_email\": EMAIL,\n",
        "                                 \"email_category\":email_category,\n",
        "                                 \"research_info\":research_info,\n",
        "                                 \"draft_email\": draft_email,\n",
        "                                \"email_analysis\":email_analysis})\n",
        "\n",
        "final_email['final_email']"
      ],
      "metadata": {
        "colab": {
          "base_uri": "https://localhost:8080/",
          "height": 70
        },
        "id": "xS_pSIE2TAku",
        "outputId": "907cb777-367c-439a-b337-39b068c5bbdc"
      },
      "execution_count": null,
      "outputs": [
        {
          "output_type": "execute_result",
          "data": {
            "text/plain": [
              "\"Dear valued customer, thank you so much for taking the time to share your feedback with us. We truly appreciate your kind words and are thrilled that you enjoyed your stay with us. We're grateful for customers like you and would love to have you back again soon. Best regards, Sarah\""
            ],
            "application/vnd.google.colaboratory.intrinsic+json": {
              "type": "string"
            }
          },
          "metadata": {},
          "execution_count": 14
        }
      ]
    },
    {
      "cell_type": "markdown",
      "source": [
        "# Tool Setup"
      ],
      "metadata": {
        "id": "ck2808kWZ98s"
      }
    },
    {
      "cell_type": "code",
      "source": [
        "### Search\n",
        "\n",
        "from langchain_community.tools.tavily_search import TavilySearchResults\n",
        "\n",
        "web_search_tool = TavilySearchResults(k=1)"
      ],
      "metadata": {
        "id": "1yOsK2VpTDbn"
      },
      "execution_count": null,
      "outputs": []
    },
    {
      "cell_type": "markdown",
      "source": [
        "# State"
      ],
      "metadata": {
        "id": "5R_TZpNSasdg"
      }
    },
    {
      "cell_type": "code",
      "source": [
        "from langchain.schema import Document\n",
        "from langgraph.graph import END, StateGraph"
      ],
      "metadata": {
        "id": "OfwYbrT5aT4A"
      },
      "execution_count": null,
      "outputs": []
    },
    {
      "cell_type": "code",
      "source": [
        "from typing_extensions import TypedDict\n",
        "from typing import List\n",
        "\n",
        "### State\n",
        "\n",
        "class GraphState(TypedDict):\n",
        "  \"\"\"\n",
        "  Represents the state of our graph\n",
        "\n",
        "  Attributes:\n",
        "    initial email: email\n",
        "    email_category: email category\n",
        "    research_info: research info\n",
        "    draft_email: draft email\n",
        "    email_analysis: email analysis\n",
        "    final_email: final email\n",
        "  \"\"\"\n",
        "  initial_email: str\n",
        "  email_category: str\n",
        "  research_info: List[str]\n",
        "  draft_email: str\n",
        "  final_email: str\n",
        "  info_needed: bool\n",
        "  num_steps: int\n",
        "  draft_email_feedback: dict"
      ],
      "metadata": {
        "id": "3ETC4Aaba2wt"
      },
      "execution_count": null,
      "outputs": []
    },
    {
      "cell_type": "markdown",
      "source": [
        "# Nodes\n",
        "\n",
        "1. categorize_email\n",
        "2. research_info_search\n",
        "3. draft_email_writer\n",
        "4. analyze_draft_email\n",
        "5. rewrite_email\n",
        "6. no_rewrite\n",
        "7. state_printer"
      ],
      "metadata": {
        "id": "auq03aIub3lO"
      }
    },
    {
      "cell_type": "code",
      "source": [
        "def categorize_email(state):\n",
        "  \"\"\"take the initial email and categorize it\"\"\"\n",
        "  print(\"---CATEGORIZE INITIAL EMAIL---\")\n",
        "  initial_email = state['initial_email']\n",
        "  num_steps = int(state['num_steps'])\n",
        "  num_steps += 1\n",
        "\n",
        "  email_category = email_category_generator.invoke({\"initial_email\": initial_email})\n",
        "  print(email_category)\n",
        "  #Save to local disk\n",
        "  write_markdown_file(email_category, \"email_category\")\n",
        "\n",
        "  return {\"email_category\": email_category, \"num_steps\": num_steps}"
      ],
      "metadata": {
        "id": "4NUEFQJ-b15W"
      },
      "execution_count": null,
      "outputs": []
    },
    {
      "cell_type": "code",
      "source": [
        "def research_info_search(state):\n",
        "  \"\"\"\n",
        "  Web search based on the question\n",
        "\n",
        "  Args:\n",
        "    state(dict): The current graph state\n",
        "\n",
        "  Return:\n",
        "    state (dict): Appended web results to documents\n",
        "  \"\"\"\n",
        "\n",
        "  print(\"----RESEARCH INFO SEARCH----\")\n",
        "  email_category = state['email_category']\n",
        "  initial_email = state['initial_email']\n",
        "  research_info = state[\"research_info\"]\n",
        "  num_steps = int(state['num_steps'])\n",
        "  num_steps += 1\n",
        "\n",
        "  # Web search\n",
        "  keywords = search_keyword_chain.invoke({\"initial_email\": initial_email, \"email_category\":email_category})\n",
        "  keywords = keywords['keywords']\n",
        "  print(keywords)\n",
        "  full_searches = []\n",
        "  for keyword in keywords[:1]:\n",
        "    print(keyword)\n",
        "    temp_docs = web_search_tool.invoke({\"query\": keyword})\n",
        "    web_results = \"\\n\".join([d[\"content\"] for d in temp_docs])\n",
        "    web_results = Document(page_content=web_results)\n",
        "    if full_searches is not None:\n",
        "      full_searches.append(web_results)\n",
        "    else:\n",
        "      full_searches = [web_results]\n",
        "  print(full_searches)\n",
        "  print(type(full_searches))\n",
        "  return {\"research_info\": full_searches, \"num_steps\": num_steps}"
      ],
      "metadata": {
        "id": "qGu6aki2nTH8"
      },
      "execution_count": null,
      "outputs": []
    },
    {
      "cell_type": "code",
      "source": [
        "def draft_email_writer(state):\n",
        "  print(\"---DRAFT EMAIL WRITER---\")\n",
        "  # Get the state\n",
        "\n",
        "  initial_email = state['initial_email']\n",
        "  email_category = state[\"email_category\"]\n",
        "  research_info = state[\"research_info\"]\n",
        "  num_steps = state[\"num_steps\"]\n",
        "  num_steps += 1\n",
        "\n",
        "  # Generate draft email\n",
        "  draft_email = draft_writer_chain.invoke({\"initial_email\": initial_email, \"email_category\": email_category, \"research_info\": research_info})\n",
        "\n",
        "  print(draft_email)\n",
        "  # print(type(draft_email))\n",
        "\n",
        "  email_draft = draft_email['email_draft']\n",
        "  write_markdown_file(email_draft, \"email_draft\")\n",
        "\n",
        "  return {\"draft_email\": email_draft, \"num_steps\": num_steps}"
      ],
      "metadata": {
        "id": "UZUmFJH1tRcv"
      },
      "execution_count": null,
      "outputs": []
    },
    {
      "cell_type": "code",
      "source": [
        "def analyze_draft_email(state):\n",
        "  print(\"---DRAFT EMAIL\")\n",
        "\n",
        "  # Get the state\n",
        "  initial_email = state['initial_email']\n",
        "  email_category = state[\"email_category\"]\n",
        "  research_info = state[\"research_info\"]\n",
        "  draft_email = state[\"draft_email\"]\n",
        "  num_steps = state[\"num_steps\"]\n",
        "  num_steps += 1\n",
        "\n",
        "  # Generate draft email\n",
        "  draft_email_feedback = draft_analysis_chain.invoke({\"initial_email\":initial_email, \"email_category\": email_category, \"research_info\": research_info, \"draft_email\": draft_email})\n",
        "\n",
        "  # print(draft_email_feedback)\n",
        "\n",
        "  write_markdown_file(str(draft_email_feedback),\"draft_email_feedback\")\n",
        "\n",
        "  return {\"draft_email_feedback\": draft_email_feedback, \"num_steps\": num_steps}"
      ],
      "metadata": {
        "id": "RCJTb50DNRTA"
      },
      "execution_count": null,
      "outputs": []
    },
    {
      "cell_type": "code",
      "source": [
        "def rewrite_email(state):\n",
        "  print(\"---REWRITE EMAIL---\")\n",
        "  # Get the state\n",
        "  initial_email = state[\"initial_email\"]\n",
        "  email_category = state[\"email_category\"]\n",
        "  draft_email = state[\"draft_email\"]\n",
        "  research_info = state[\"research_info\"]\n",
        "  draft_email_feedback = state[\"draft_email_feedback\"]\n",
        "  num_steps = state[\"num_steps\"]\n",
        "  num_steps += 1\n",
        "\n",
        "  # Generate draft email\n",
        "  final_email = rewrite_chain.invoke({\"initial_email\": initial_email, \"email_category\": email_category, \"research_info\": research_info, \"draft_email\": draft_email, \"email_analysis\": draft_email_feedback})\n",
        "\n",
        "  write_markdown_file(str(final_email),\"final_email\")\n",
        "\n",
        "  return {\"final_email\": final_email, \"num_steps\": num_steps}"
      ],
      "metadata": {
        "id": "yiiPyLy0QXAw"
      },
      "execution_count": null,
      "outputs": []
    },
    {
      "cell_type": "code",
      "source": [
        "def no_rewrite(state):\n",
        "  print(\"---NO REWRITE EMAIL---\")\n",
        "  # Get the state\n",
        "  draft_email = state[\"draft_email\"]\n",
        "  num_steps = state[\"num_steps\"]\n",
        "  num_steps+=1\n",
        "\n",
        "  write_markdown_file(str(draft_email),\"final_email\")\n",
        "\n",
        "  return {\"final_email\": draft_email, \"num_steps\": num_steps}"
      ],
      "metadata": {
        "id": "6nWz_yzfWuXm"
      },
      "execution_count": null,
      "outputs": []
    },
    {
      "cell_type": "code",
      "source": [
        "def state_printer(state):\n",
        "  \"\"\"print the state\"\"\"\n",
        "  print(\"---STATE PRINTER---\")\n",
        "  print(f\"Initial Email: {state['initial_email']}\\n\")\n",
        "  print(f\"Email Category: {state['email_category']}\\n\")\n",
        "  print(f\"Research Info: {state['research_info']}\\n\")\n",
        "  print(f\"Draft Email: {state['draft_email']}\\n\")\n",
        "  print(f\"Draft Email Feedback: {state['draft_email_feedback']}\\n\")\n",
        "  print(f\"Final Email: {state['final_email']}\\n\")\n",
        "  print(f\"Num Steps: {state['num_steps']}\\n\")\n",
        "  print(f\"Info Needed: {state['info_needed']}\\n\")\n",
        "  return"
      ],
      "metadata": {
        "id": "myjYeWnpXOti"
      },
      "execution_count": null,
      "outputs": []
    },
    {
      "cell_type": "markdown",
      "source": [
        "# Conditional Edges"
      ],
      "metadata": {
        "id": "BIMvcjiqY4zZ"
      }
    },
    {
      "cell_type": "code",
      "source": [
        "def route_to_research(state):\n",
        "  \"\"\"\n",
        "  Route email to web search or not\n",
        "  Args:\n",
        "    state(dict): The current graph state\n",
        "\n",
        "  Return:\n",
        "    str: Next node to call\n",
        "  \"\"\"\n",
        "\n",
        "  print(\"---ROUTE TO RESEARCH---\")\n",
        "  initial_email = state['initial_email']\n",
        "  email_category = state['email_category']\n",
        "\n",
        "  router = research_router.invoke({\"initial_email\": initial_email, \"email_category\": email_category})\n",
        "  print(router)\n",
        "  print(type(router))\n",
        "  print(router['router_decision'])\n",
        "  if router['router_decision'] == \"research_info\":\n",
        "    print(\"---ROUTE EMAIL TO RESEARCH INFO---\")\n",
        "    return \"research_info\"\n",
        "  elif router['router_decision'] == 'draft_email':\n",
        "    print(\"---ROUTE EMAIL TO DRAFT EMAIL---\")\n",
        "    return \"draft_email\""
      ],
      "metadata": {
        "id": "3sZ5xNKqX5TX"
      },
      "execution_count": null,
      "outputs": []
    },
    {
      "cell_type": "code",
      "source": [
        "def route_to_rewrite(state):\n",
        "\n",
        "    print(\"---ROUTE TO REWRITE---\")\n",
        "    initial_email = state[\"initial_email\"]\n",
        "    email_category = state[\"email_category\"]\n",
        "    draft_email = state[\"draft_email\"]\n",
        "    research_info = state[\"research_info\"]\n",
        "\n",
        "    # draft_email = \"Yo we can't help you, best regards Sarah\"\n",
        "\n",
        "    router = rewrite_router.invoke({\"initial_email\": initial_email,\n",
        "                                     \"email_category\":email_category,\n",
        "                                     \"draft_email\":draft_email}\n",
        "                                   )\n",
        "    print(router)\n",
        "    print(router['router_decision'])\n",
        "    if router['router_decision'] == 'rewrite':\n",
        "        print(\"---ROUTE TO ANALYSIS - REWRITE---\")\n",
        "        return \"rewrite\"\n",
        "    elif router['router_decision'] == 'no_rewrite':\n",
        "        print(\"---ROUTE EMAIL TO FINAL EMAIL---\")\n",
        "        return \"no_rewrite\""
      ],
      "metadata": {
        "id": "W9CaPmQUjhZ9"
      },
      "execution_count": null,
      "outputs": []
    },
    {
      "cell_type": "markdown",
      "source": [
        "# Build The Graph"
      ],
      "metadata": {
        "id": "3v7EtjsMloQX"
      }
    },
    {
      "cell_type": "markdown",
      "source": [
        "## Add Nodes"
      ],
      "metadata": {
        "id": "CW10SF55lu2H"
      }
    },
    {
      "cell_type": "code",
      "source": [
        "workflow = StateGraph(GraphState)\n",
        "\n",
        "#Define the nodes\n",
        "workflow.add_node(\"categorize_email\", categorize_email)# categorize email\n",
        "workflow.add_node(\"research_info_search\", research_info_search)# web search\n",
        "workflow.add_node(\"state_printer\", state_printer)\n",
        "workflow.add_node(\"draft_email_writer\", draft_email_writer)# draft email writer\n",
        "workflow.add_node(\"analyze_draft_email\", analyze_draft_email)# draft email analysis\n",
        "workflow.add_node(\"rewrite_email\", rewrite_email)# rewrite email\n",
        "workflow.add_node(\"no_rewrite\", no_rewrite)#"
      ],
      "metadata": {
        "id": "D7j9EXtElnek"
      },
      "execution_count": null,
      "outputs": []
    },
    {
      "cell_type": "markdown",
      "source": [
        "## Add Edges"
      ],
      "metadata": {
        "id": "sVN_Os4CqJyh"
      }
    },
    {
      "cell_type": "code",
      "source": [
        "workflow.set_entry_point(\"categorize_email\")\n",
        "\n",
        "workflow.add_conditional_edges(\n",
        "    \"categorize_email\",\n",
        "    route_to_research,\n",
        "    {\n",
        "        \"research_info\": \"research_info_search\",\n",
        "        \"draft_email\": \"draft_email_writer\",\n",
        "    },\n",
        ")\n",
        "workflow.add_edge(\"research_info_search\", \"draft_email_writer\")\n",
        "\n",
        "workflow.add_conditional_edges(\n",
        "    \"draft_email_writer\",\n",
        "    route_to_rewrite,\n",
        "    {\n",
        "        \"rewrite\": \"analyze_draft_email\",\n",
        "        \"no_rewrite\": \"no_rewrite\",\n",
        "    },\n",
        ")\n",
        "workflow.add_edge(\"analyze_draft_email\", \"rewrite_email\")\n",
        "workflow.add_edge(\"no_rewrite\",\"state_printer\")\n",
        "workflow.add_edge(\"rewrite_email\", \"state_printer\")\n",
        "workflow.add_edge(\"state_printer\",END)"
      ],
      "metadata": {
        "id": "PMG7vdTUqI_P"
      },
      "execution_count": null,
      "outputs": []
    },
    {
      "cell_type": "code",
      "source": [
        "# COmpile\n",
        "app = workflow.compile()"
      ],
      "metadata": {
        "id": "3BCXvsgaCDwa"
      },
      "execution_count": null,
      "outputs": []
    },
    {
      "cell_type": "code",
      "source": [
        "# EMAIL = \"\"\"HI there, \\n\n",
        "# I am emailing to find out the current price of Bitcoin. \\n\n",
        "\n",
        "# Can you please help me/\n",
        "\n",
        "# Thanks,\n",
        "# John\n",
        "# \"\"\"\n",
        "\n",
        "# EMAIL = \"\"\"HI there, \\n\n",
        "# I am emailing to say that I had a wonderful stay at your resort last week. \\n\n",
        "\n",
        "# I really appreaciate what your staff did\n",
        "\n",
        "# Thanks,\n",
        "# Paul\n",
        "# \"\"\"\n",
        "\n",
        "EMAIL = \"\"\"HI there, \\n\n",
        "I am emailing to say that the resort weather was way to cloudy and overcast. \\n\n",
        "I wanted to write a song called 'Here comes the sun but it never came'\n",
        "\n",
        "What should be the weather in Arizona in April?\n",
        "\n",
        "I really hope you fix this next time.\n",
        "\n",
        "Thanks,\n",
        "George\n",
        "\"\"\"\n",
        "\n",
        "# EMAIL = \"\"\"HI there, \\n\n",
        "# Why can't I get to sing?\n",
        "\n",
        "# Thanks,\n",
        "# Ringo\n",
        "# \"\"\"\n",
        "\n",
        "# EMAIL = \"\"\"HI there, \\n\n",
        "# Thanks for confirming my booking\n",
        "\n",
        "# Thanks,\n",
        "# Ringo\n",
        "# \"\"\""
      ],
      "metadata": {
        "id": "L_FXorjxCLOA"
      },
      "execution_count": null,
      "outputs": []
    },
    {
      "cell_type": "code",
      "source": [
        "# run the agent\n",
        "inputs = {\"initial_email\": EMAIL,\"research_info\": None, \"num_steps\":0}\n",
        "for output in app.stream(inputs):\n",
        "  for key, value in output.items():\n",
        "    pprint(f\"Finished running: {key}: {value}\")"
      ],
      "metadata": {
        "colab": {
          "base_uri": "https://localhost:8080/"
        },
        "id": "Ktq-4zltCrtu",
        "outputId": "622bdd22-7d36-444b-dca3-3dff5a7c1635"
      },
      "execution_count": null,
      "outputs": [
        {
          "output_type": "stream",
          "name": "stdout",
          "text": [
            "---CATEGORIZE INITIAL EMAIL---\n",
            "'customer_complaint'\n",
            "---ROUTE TO RESEARCH---\n",
            "{'router_decision': 'research_info'}\n",
            "<class 'dict'>\n",
            "research_info\n",
            "---ROUTE EMAIL TO RESEARCH INFO---\n",
            "(\"Finished running: categorize_email: {'email_category': \"\n",
            " '\"\\'customer_complaint\\'\", \\'num_steps\\': 1}')\n",
            "----RESEARCH INFO SEARCH----\n",
            "['arizona weather april', 'resort weather complaints', 'customer service responses']\n",
            "arizona weather april\n",
            "[Document(page_content='{\\'location\\': {\\'name\\': \\'Arizona\\', \\'region\\': \\'Atlantida\\', \\'country\\': \\'Honduras\\', \\'lat\\': 15.63, \\'lon\\': -87.32, \\'tz_id\\': \\'America/Tegucigalpa\\', \\'localtime_epoch\\': 1719212651, \\'localtime\\': \\'2024-06-24 1:04\\'}, \\'current\\': {\\'last_updated_epoch\\': 1719212400, \\'last_updated\\': \\'2024-06-24 01:00\\', \\'temp_c\\': 28.2, \\'temp_f\\': 82.8, \\'is_day\\': 0, \\'condition\\': {\\'text\\': \\'Patchy light rain with thunder\\', \\'icon\\': \\'//cdn.weatherapi.com/weather/64x64/night/386.png\\', \\'code\\': 1273}, \\'wind_mph\\': 2.2, \\'wind_kph\\': 3.6, \\'wind_degree\\': 10, \\'wind_dir\\': \\'N\\', \\'pressure_mb\\': 1009.0, \\'pressure_in\\': 29.8, \\'precip_mm\\': 0.07, \\'precip_in\\': 0.0, \\'humidity\\': 94, \\'cloud\\': 50, \\'feelslike_c\\': 35.5, \\'feelslike_f\\': 95.9, \\'windchill_c\\': 25.1, \\'windchill_f\\': 77.1, \\'heatindex_c\\': 28.2, \\'heatindex_f\\': 82.8, \\'dewpoint_c\\': 24.1, \\'dewpoint_f\\': 75.3, \\'vis_km\\': 10.0, \\'vis_miles\\': 6.0, \\'uv\\': 1.0, \\'gust_mph\\': 4.5, \\'gust_kph\\': 7.2}}\\nWeather reports from April 2024 in Phoenix, Arizona, USA with highs and lows. Sign in. News. News Home; Astronomy News; Time Zone News; Calendar & Holiday News; Newsletter; Live events. World Clock. ... High & Low Weather Summary for April 2024 Temperature Humidity Pressure; High: 100 °F (Apr 22, 3:51 pm) 90% (Apr 1, 3:17 am) 30.19 \"Hg (Apr 1 ...\\nExtended weather forecast in Phoenix. Hourly Week 10 days 14 days 30 days Year. Detailed ⚡ Phoenix Weather Forecast for April 2024 - day/night 🌡️ temperatures, precipitations - World-Weather.info.\\nGet the monthly weather forecast for Phoenix, AZ, including daily high/low, historical averages, to help you plan ahead.\\nPhoenix Temperature History April 2024. The daily range of reported temperatures (gray bars) and 24-hour highs (red ticks) and lows (blue ticks), placed over the daily average high (faint red line) and low (faint blue line) temperature, with 25th to 75th and 10th to 90th percentile bands.')]\n",
            "<class 'list'>\n",
            "(\"Finished running: research_info_search: {'research_info': \"\n",
            " \"[Document(page_content='{\\\\'location\\\\': {\\\\'name\\\\': \\\\'Arizona\\\\', \"\n",
            " \"\\\\'region\\\\': \\\\'Atlantida\\\\', \\\\'country\\\\': \\\\'Honduras\\\\', \\\\'lat\\\\': \"\n",
            " \"15.63, \\\\'lon\\\\': -87.32, \\\\'tz_id\\\\': \\\\'America/Tegucigalpa\\\\', \"\n",
            " \"\\\\'localtime_epoch\\\\': 1719212651, \\\\'localtime\\\\': \\\\'2024-06-24 1:04\\\\'}, \"\n",
            " \"\\\\'current\\\\': {\\\\'last_updated_epoch\\\\': 1719212400, \\\\'last_updated\\\\': \"\n",
            " \"\\\\'2024-06-24 01:00\\\\', \\\\'temp_c\\\\': 28.2, \\\\'temp_f\\\\': 82.8, \"\n",
            " \"\\\\'is_day\\\\': 0, \\\\'condition\\\\': {\\\\'text\\\\': \\\\'Patchy light rain with \"\n",
            " \"thunder\\\\', \\\\'icon\\\\': \"\n",
            " \"\\\\'//cdn.weatherapi.com/weather/64x64/night/386.png\\\\', \\\\'code\\\\': 1273}, \"\n",
            " \"\\\\'wind_mph\\\\': 2.2, \\\\'wind_kph\\\\': 3.6, \\\\'wind_degree\\\\': 10, \"\n",
            " \"\\\\'wind_dir\\\\': \\\\'N\\\\', \\\\'pressure_mb\\\\': 1009.0, \\\\'pressure_in\\\\': 29.8, \"\n",
            " \"\\\\'precip_mm\\\\': 0.07, \\\\'precip_in\\\\': 0.0, \\\\'humidity\\\\': 94, \"\n",
            " \"\\\\'cloud\\\\': 50, \\\\'feelslike_c\\\\': 35.5, \\\\'feelslike_f\\\\': 95.9, \"\n",
            " \"\\\\'windchill_c\\\\': 25.1, \\\\'windchill_f\\\\': 77.1, \\\\'heatindex_c\\\\': 28.2, \"\n",
            " \"\\\\'heatindex_f\\\\': 82.8, \\\\'dewpoint_c\\\\': 24.1, \\\\'dewpoint_f\\\\': 75.3, \"\n",
            " \"\\\\'vis_km\\\\': 10.0, \\\\'vis_miles\\\\': 6.0, \\\\'uv\\\\': 1.0, \\\\'gust_mph\\\\': \"\n",
            " \"4.5, \\\\'gust_kph\\\\': 7.2}}\\\\nWeather reports from April 2024 in Phoenix, \"\n",
            " 'Arizona, USA with highs and lows. Sign in. News. News Home; Astronomy News; '\n",
            " 'Time Zone News; Calendar & Holiday News; Newsletter; Live events. World '\n",
            " 'Clock. ... High & Low Weather Summary for April 2024 Temperature Humidity '\n",
            " 'Pressure; High: 100 °F (Apr 22, 3:51 pm) 90% (Apr 1, 3:17 am) 30.19 \"Hg (Apr '\n",
            " '1 ...\\\\nExtended weather forecast in Phoenix. Hourly Week 10 days 14 days 30 '\n",
            " 'days Year. Detailed ⚡ Phoenix Weather Forecast for April 2024 - day/night 🌡️ '\n",
            " 'temperatures, precipitations - World-Weather.info.\\\\nGet the monthly weather '\n",
            " 'forecast for Phoenix, AZ, including daily high/low, historical averages, to '\n",
            " 'help you plan ahead.\\\\nPhoenix Temperature History April 2024. The daily '\n",
            " 'range of reported temperatures (gray bars) and 24-hour highs (red ticks) and '\n",
            " 'lows (blue ticks), placed over the daily average high (faint red line) and '\n",
            " 'low (faint blue line) temperature, with 25th to 75th and 10th to 90th '\n",
            " \"percentile bands.')], 'num_steps': 2}\")\n",
            "---DRAFT EMAIL WRITER---\n",
            "{'email_draft': \"Dear George,\\n\\nThank you for taking the time to share your experience with us. I'm so sorry to hear that the weather didn't meet your expectations during your stay. I understand how frustrating it can be when it's cloudy and overcast.\\n\\nRegarding your question about the weather in Arizona in April, according to our research, the high temperature in Phoenix, Arizona in April can reach up to 100°F (37.8°C) with an average humidity of 90%. However, it's not uncommon to have some cloudy days during this time of the year.\\n\\nI appreciate your feedback and would like to assure you that we value your opinion and are taking your concerns seriously. We will do our best to ensure that our future guests have a better experience.\\n\\nThank you again for your feedback, and I hope you get to write that song someday!\\n\\nBest regards,\\nSarah, Resident Manager\"}\n",
            "---ROUTE TO REWRITE---\n",
            "{'router_decision': 'no_rewrite'}\n",
            "no_rewrite\n",
            "---ROUTE EMAIL TO FINAL EMAIL---\n",
            "('Finished running: draft_email_writer: {\\'draft_email\\': \"Dear '\n",
            " 'George,\\\\n\\\\nThank you for taking the time to share your experience with us. '\n",
            " \"I'm so sorry to hear that the weather didn't meet your expectations during \"\n",
            " \"your stay. I understand how frustrating it can be when it's cloudy and \"\n",
            " 'overcast.\\\\n\\\\nRegarding your question about the weather in Arizona in '\n",
            " 'April, according to our research, the high temperature in Phoenix, Arizona '\n",
            " 'in April can reach up to 100°F (37.8°C) with an average humidity of 90%. '\n",
            " \"However, it's not uncommon to have some cloudy days during this time of the \"\n",
            " 'year.\\\\n\\\\nI appreciate your feedback and would like to assure you that we '\n",
            " 'value your opinion and are taking your concerns seriously. We will do our '\n",
            " 'best to ensure that our future guests have a better experience.\\\\n\\\\nThank '\n",
            " 'you again for your feedback, and I hope you get to write that song '\n",
            " 'someday!\\\\n\\\\nBest regards,\\\\nSarah, Resident Manager\", \\'num_steps\\': 3}')\n",
            "---NO REWRITE EMAIL---\n",
            "('Finished running: no_rewrite: {\\'final_email\\': \"Dear George,\\\\n\\\\nThank you '\n",
            " \"for taking the time to share your experience with us. I'm so sorry to hear \"\n",
            " \"that the weather didn't meet your expectations during your stay. I \"\n",
            " \"understand how frustrating it can be when it's cloudy and \"\n",
            " 'overcast.\\\\n\\\\nRegarding your question about the weather in Arizona in '\n",
            " 'April, according to our research, the high temperature in Phoenix, Arizona '\n",
            " 'in April can reach up to 100°F (37.8°C) with an average humidity of 90%. '\n",
            " \"However, it's not uncommon to have some cloudy days during this time of the \"\n",
            " 'year.\\\\n\\\\nI appreciate your feedback and would like to assure you that we '\n",
            " 'value your opinion and are taking your concerns seriously. We will do our '\n",
            " 'best to ensure that our future guests have a better experience.\\\\n\\\\nThank '\n",
            " 'you again for your feedback, and I hope you get to write that song '\n",
            " 'someday!\\\\n\\\\nBest regards,\\\\nSarah, Resident Manager\", \\'num_steps\\': 4}')\n",
            "---STATE PRINTER---\n",
            "Initial Email: HI there, \n",
            "\n",
            "I am emailing to say that the resort weather was way to cloudy and overcast. \n",
            "\n",
            "I wanted to write a song called 'Here comes the sun but it never came'\n",
            "\n",
            "What should be the weather in Arizona in April?\n",
            "\n",
            "I really hope you fix this next time.\n",
            "\n",
            "Thanks,\n",
            "George\n",
            "\n",
            "\n",
            "Email Category: 'customer_complaint'\n",
            "\n",
            "Research Info: [Document(page_content='{\\'location\\': {\\'name\\': \\'Arizona\\', \\'region\\': \\'Atlantida\\', \\'country\\': \\'Honduras\\', \\'lat\\': 15.63, \\'lon\\': -87.32, \\'tz_id\\': \\'America/Tegucigalpa\\', \\'localtime_epoch\\': 1719212651, \\'localtime\\': \\'2024-06-24 1:04\\'}, \\'current\\': {\\'last_updated_epoch\\': 1719212400, \\'last_updated\\': \\'2024-06-24 01:00\\', \\'temp_c\\': 28.2, \\'temp_f\\': 82.8, \\'is_day\\': 0, \\'condition\\': {\\'text\\': \\'Patchy light rain with thunder\\', \\'icon\\': \\'//cdn.weatherapi.com/weather/64x64/night/386.png\\', \\'code\\': 1273}, \\'wind_mph\\': 2.2, \\'wind_kph\\': 3.6, \\'wind_degree\\': 10, \\'wind_dir\\': \\'N\\', \\'pressure_mb\\': 1009.0, \\'pressure_in\\': 29.8, \\'precip_mm\\': 0.07, \\'precip_in\\': 0.0, \\'humidity\\': 94, \\'cloud\\': 50, \\'feelslike_c\\': 35.5, \\'feelslike_f\\': 95.9, \\'windchill_c\\': 25.1, \\'windchill_f\\': 77.1, \\'heatindex_c\\': 28.2, \\'heatindex_f\\': 82.8, \\'dewpoint_c\\': 24.1, \\'dewpoint_f\\': 75.3, \\'vis_km\\': 10.0, \\'vis_miles\\': 6.0, \\'uv\\': 1.0, \\'gust_mph\\': 4.5, \\'gust_kph\\': 7.2}}\\nWeather reports from April 2024 in Phoenix, Arizona, USA with highs and lows. Sign in. News. News Home; Astronomy News; Time Zone News; Calendar & Holiday News; Newsletter; Live events. World Clock. ... High & Low Weather Summary for April 2024 Temperature Humidity Pressure; High: 100 °F (Apr 22, 3:51 pm) 90% (Apr 1, 3:17 am) 30.19 \"Hg (Apr 1 ...\\nExtended weather forecast in Phoenix. Hourly Week 10 days 14 days 30 days Year. Detailed ⚡ Phoenix Weather Forecast for April 2024 - day/night 🌡️ temperatures, precipitations - World-Weather.info.\\nGet the monthly weather forecast for Phoenix, AZ, including daily high/low, historical averages, to help you plan ahead.\\nPhoenix Temperature History April 2024. The daily range of reported temperatures (gray bars) and 24-hour highs (red ticks) and lows (blue ticks), placed over the daily average high (faint red line) and low (faint blue line) temperature, with 25th to 75th and 10th to 90th percentile bands.')]\n",
            "\n",
            "Draft Email: Dear George,\n",
            "\n",
            "Thank you for taking the time to share your experience with us. I'm so sorry to hear that the weather didn't meet your expectations during your stay. I understand how frustrating it can be when it's cloudy and overcast.\n",
            "\n",
            "Regarding your question about the weather in Arizona in April, according to our research, the high temperature in Phoenix, Arizona in April can reach up to 100°F (37.8°C) with an average humidity of 90%. However, it's not uncommon to have some cloudy days during this time of the year.\n",
            "\n",
            "I appreciate your feedback and would like to assure you that we value your opinion and are taking your concerns seriously. We will do our best to ensure that our future guests have a better experience.\n",
            "\n",
            "Thank you again for your feedback, and I hope you get to write that song someday!\n",
            "\n",
            "Best regards,\n",
            "Sarah, Resident Manager\n",
            "\n",
            "Draft Email Feedback: None\n",
            "\n",
            "Final Email: Dear George,\n",
            "\n",
            "Thank you for taking the time to share your experience with us. I'm so sorry to hear that the weather didn't meet your expectations during your stay. I understand how frustrating it can be when it's cloudy and overcast.\n",
            "\n",
            "Regarding your question about the weather in Arizona in April, according to our research, the high temperature in Phoenix, Arizona in April can reach up to 100°F (37.8°C) with an average humidity of 90%. However, it's not uncommon to have some cloudy days during this time of the year.\n",
            "\n",
            "I appreciate your feedback and would like to assure you that we value your opinion and are taking your concerns seriously. We will do our best to ensure that our future guests have a better experience.\n",
            "\n",
            "Thank you again for your feedback, and I hope you get to write that song someday!\n",
            "\n",
            "Best regards,\n",
            "Sarah, Resident Manager\n",
            "\n",
            "Num Steps: 4\n",
            "\n",
            "Info Needed: None\n",
            "\n"
          ]
        }
      ]
    },
    {
      "cell_type": "code",
      "source": [],
      "metadata": {
        "id": "jOQyH6x8D_ZL"
      },
      "execution_count": null,
      "outputs": []
    }
  ]
}